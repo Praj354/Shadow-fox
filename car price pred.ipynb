{
 "cells": [
  {
   "cell_type": "code",
   "execution_count": 87,
   "id": "d9440dde-1ca0-4967-9035-88282341cd3c",
   "metadata": {},
   "outputs": [
    {
     "name": "stdout",
     "output_type": "stream",
     "text": [
      "  Car_Name  Year  Selling_Price  Present_Price  Kms_Driven Fuel_Type  \\\n",
      "0     ritz  2014           3.35           5.59       27000    Petrol   \n",
      "1      sx4  2013           4.75           9.54       43000    Diesel   \n",
      "2     ciaz  2017           7.25           9.85        6900    Petrol   \n",
      "3  wagon r  2011           2.85           4.15        5200    Petrol   \n",
      "4    swift  2014           4.60           6.87       42450    Diesel   \n",
      "\n",
      "  Seller_Type Transmission  Owner  \n",
      "0      Dealer       Manual      0  \n",
      "1      Dealer       Manual      0  \n",
      "2      Dealer       Manual      0  \n",
      "3      Dealer       Manual      0  \n",
      "4      Dealer       Manual      0  \n"
     ]
    }
   ],
   "source": [
    "import pandas as pd\n",
    "df = pd.read_csv('car.csv')\n",
    "print(df.head())\n"
   ]
  },
  {
   "cell_type": "code",
   "execution_count": 89,
   "id": "c2aa3dd9-6cc5-4a6b-bd65-dfb54d944bc1",
   "metadata": {},
   "outputs": [
    {
     "name": "stdout",
     "output_type": "stream",
     "text": [
      "<class 'pandas.core.frame.DataFrame'>\n",
      "RangeIndex: 301 entries, 0 to 300\n",
      "Data columns (total 9 columns):\n",
      " #   Column         Non-Null Count  Dtype  \n",
      "---  ------         --------------  -----  \n",
      " 0   Car_Name       301 non-null    object \n",
      " 1   Year           301 non-null    int64  \n",
      " 2   Selling_Price  301 non-null    float64\n",
      " 3   Present_Price  301 non-null    float64\n",
      " 4   Kms_Driven     301 non-null    int64  \n",
      " 5   Fuel_Type      301 non-null    object \n",
      " 6   Seller_Type    301 non-null    object \n",
      " 7   Transmission   301 non-null    object \n",
      " 8   Owner          301 non-null    int64  \n",
      "dtypes: float64(2), int64(3), object(4)\n",
      "memory usage: 21.3+ KB\n",
      "None\n",
      "Car_Name         0\n",
      "Year             0\n",
      "Selling_Price    0\n",
      "Present_Price    0\n",
      "Kms_Driven       0\n",
      "Fuel_Type        0\n",
      "Seller_Type      0\n",
      "Transmission     0\n",
      "Owner            0\n",
      "dtype: int64\n"
     ]
    }
   ],
   "source": [
    "print(df.info())\n",
    "print(df.isnull().sum())"
   ]
  },
  {
   "cell_type": "code",
   "execution_count": 91,
   "id": "8581ff39-0b81-49c4-b7fe-94b2c9334b39",
   "metadata": {},
   "outputs": [],
   "source": [
    "df = pd.get_dummies(df, columns=['Fuel_Type', 'Seller_Type', 'Transmission'], drop_first=True)"
   ]
  },
  {
   "cell_type": "code",
   "execution_count": 93,
   "id": "d1ac49aa-440d-40bf-b5b6-84eed0950cb8",
   "metadata": {},
   "outputs": [],
   "source": [
    "# Calculate the age of the car\n",
    "df['Age'] = 2023 - df['Year']\n"
   ]
  },
  {
   "cell_type": "code",
   "execution_count": 95,
   "id": "9f4bed5d-9a21-4e76-ac1e-7574010ced7a",
   "metadata": {},
   "outputs": [],
   "source": [
    "df.drop(['Car_Name', 'Year'], axis=1, inplace=True)"
   ]
  },
  {
   "cell_type": "code",
   "execution_count": 97,
   "id": "493bdc7c-1a0f-4109-8036-08f602987555",
   "metadata": {},
   "outputs": [],
   "source": [
    "X = df.drop('Selling_Price', axis=1)\n",
    "y = df['Selling_Price']"
   ]
  },
  {
   "cell_type": "code",
   "execution_count": 122,
   "id": "d87bb43c-858d-47de-966f-fabdb80852e9",
   "metadata": {},
   "outputs": [],
   "source": [
    "from sklearn.model_selection import train_test_split\n",
    "X_train, X_test, y_train, y_test = train_test_split(X, y, test_size=0.2, random_state=42)\n"
   ]
  },
  {
   "cell_type": "code",
   "execution_count": 120,
   "id": "11c37251-38f2-4f47-80b7-1f8e3b63e8e1",
   "metadata": {},
   "outputs": [
    {
     "name": "stdout",
     "output_type": "stream",
     "text": [
      "MAE: 0.6457590163934431, MSE: 0.9436567034426229, R^2: 0.9590348270689016\n"
     ]
    }
   ],
   "source": [
    "from sklearn.ensemble import RandomForestRegressor\n",
    "from sklearn.metrics import mean_absolute_error, mean_squared_error, r2_score\n",
    "import joblib\n",
    "model = RandomForestRegressor(n_estimators=100, random_state=42)\n",
    "model.fit(X_train, y_train)\n",
    "joblib.dump(model, 'car_price_model.pkl')\n",
    "y_pred = model.predict(X_test)\n",
    "mae = mean_absolute_error(y_test, y_pred)\n",
    "mse = mean_squared_error(y_test, y_pred)\n",
    "r2 = r2_score(y_test, y_pred)\n",
    "\n",
    "print(f'MAE: {mae}, MSE: {mse}, R^2: {r2}')\n"
   ]
  },
  {
   "cell_type": "code",
   "execution_count": 118,
   "id": "ab8893c1-fb65-4ce7-a40b-6c81e0d6ffc5",
   "metadata": {},
   "outputs": [
    {
     "name": "stdout",
     "output_type": "stream",
     "text": [
      "Predicted Selling Price: 5.359499999999996\n"
     ]
    }
   ],
   "source": [
    "import pandas as pd\n",
    "import joblib\n",
    "model = joblib.load('car_price_model.pkl')\n",
    "new_data = {\n",
    "    'Age': [5],\n",
    "    'Present_Price': [6.5],  \n",
    "    'Kms_Driven': [30000],   \n",
    "    'Owner': [0],             \n",
    "    'Fuel_Type_Diesel': [1],  \n",
    "    'Fuel_Type_Petrol': [0], \n",
    "    'Seller_Type_Dealer': [1], \n",
    "    'Seller_Type_Individual': [0],\n",
    "    'Transmission_Manual': [1], \n",
    "    'Transmission_Automatic': [0] \n",
    "}\n",
    "input_data = pd.DataFrame(new_data)\n",
    "input_data = input_data[X_train.columns]\n",
    "predicted_price = model.predict(input_data)\n",
    "print(f'Predicted Selling Price: {predicted_price[0]}')\n"
   ]
  },
  {
   "cell_type": "code",
   "execution_count": null,
   "id": "ad799988-fea9-42f5-a086-dc3d24b8787f",
   "metadata": {},
   "outputs": [],
   "source": []
  }
 ],
 "metadata": {
  "kernelspec": {
   "display_name": "Python 3 (ipykernel)",
   "language": "python",
   "name": "python3"
  },
  "language_info": {
   "codemirror_mode": {
    "name": "ipython",
    "version": 3
   },
   "file_extension": ".py",
   "mimetype": "text/x-python",
   "name": "python",
   "nbconvert_exporter": "python",
   "pygments_lexer": "ipython3",
   "version": "3.11.5"
  }
 },
 "nbformat": 4,
 "nbformat_minor": 5
}
